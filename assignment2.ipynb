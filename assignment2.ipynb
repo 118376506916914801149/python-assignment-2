{
  "nbformat": 4,
  "nbformat_minor": 0,
  "metadata": {
    "colab": {
      "name": "assignment2.ipynb",
      "provenance": [],
      "authorship_tag": "ABX9TyOrNmWcw6AdVMxoHbOfB9r1",
      "include_colab_link": true
    },
    "kernelspec": {
      "name": "python3",
      "display_name": "Python 3"
    }
  },
  "cells": [
    {
      "cell_type": "markdown",
      "metadata": {
        "id": "view-in-github",
        "colab_type": "text"
      },
      "source": [
        "<a href=\"https://colab.research.google.com/github/118376506916914801149/python-assignment-2/blob/master/assignment2.ipynb\" target=\"_parent\"><img src=\"https://colab.research.google.com/assets/colab-badge.svg\" alt=\"Open In Colab\"/></a>"
      ]
    },
    {
      "cell_type": "markdown",
      "metadata": {
        "id": "GP2I4PuNhmO2",
        "colab_type": "text"
      },
      "source": [
        "ASSIGNMENT -1"
      ]
    },
    {
      "cell_type": "code",
      "metadata": {
        "id": "MASeTjnrhhqh",
        "colab_type": "code",
        "colab": {
          "base_uri": "https://localhost:8080/",
          "height": 51
        },
        "outputId": "230a8df4-4d2a-4367-b194-466b3b52147a"
      },
      "source": [
        "#questiomn 1\n",
        "year = int(input(\"Enter the year\"))\n",
        "if year % 12 == 0 :\n",
        "  print(\"monkey\")\n",
        "elif year % 12 == 1 :\n",
        "  print(\"raoster\")\n",
        "elif year % 12 == 2 :\n",
        "  print(\"dog\")\n",
        "elif year % 12 == 3 :\n",
        "  print(\"pig\")\n",
        "elif year % 12 == 4 :\n",
        "  print(\"rat\")\n",
        "elif year % 12 == 5 :\n",
        "  print(\"ox\")\n",
        "elif year % 12 == 6 :\n",
        "  print(\"tiger\")\n",
        "elif year % 12 == 7 :\n",
        "  print(\"rabit\")\n",
        "elif year % 12 == 8 :\n",
        "  print(\"dragon\")\n",
        "elif year % 12 == 9 :\n",
        "  print(\"snake\")\n",
        "elif year % 12 == 10 :\n",
        "  print(\"horse\")\n",
        "else :\n",
        "  print(\"sheep\")"
      ],
      "execution_count": null,
      "outputs": [
        {
          "output_type": "stream",
          "text": [
            "Enter the year3\n",
            "pig\n"
          ],
          "name": "stdout"
        }
      ]
    },
    {
      "cell_type": "code",
      "metadata": {
        "id": "JvRKRquJMz4C",
        "colab_type": "code",
        "colab": {
          "base_uri": "https://localhost:8080/",
          "height": 68
        },
        "outputId": "9639e6ee-1e2b-41b9-e560-88b6711aed0b"
      },
      "source": [
        "#question 2\n",
        "dist=int(input(\"Distance to be travelled:\"))\n",
        "weight=int(input(\"Weight of the goods:\"))\n",
        "if dist >= 500 :\n",
        "  if weight >= 100 :\n",
        "    print(\"Amount to be charged:\",5*dist)\n",
        "  elif weight < 10 :\n",
        "    print(\"Amount to be charged:\",7*dist)\n",
        "  else :\n",
        "    print(\"Amount to be charged:\",6*dist)\n",
        "else :\n",
        "  if weight <= 100 :\n",
        "    print(\"Amount to be charged:\",8*dist)\n",
        "  else :\n",
        "    print(\"Amount to be charged:\",5*dist)"
      ],
      "execution_count": null,
      "outputs": [
        {
          "output_type": "stream",
          "text": [
            "Distance to be travelled:520\n",
            "Weight of the goods:50\n",
            "Amount to be charged: 3120\n"
          ],
          "name": "stdout"
        }
      ]
    },
    {
      "cell_type": "code",
      "metadata": {
        "id": "p-BLu0IWU_bT",
        "colab_type": "code",
        "colab": {
          "base_uri": "https://localhost:8080/",
          "height": 68
        },
        "outputId": "cd77334c-f007-4207-dc02-a24128b54d5c"
      },
      "source": [
        "#question 3\n",
        "seat= input(\"Type of Seat:\").upper()\n",
        "pay = input(\"Payment mode(CARD OR CASH):\").upper()\n",
        "if seat == \"CIRCLE\" and pay == \"CASH\":\n",
        "  print(\"Cost of ticket:675\")\n",
        "elif seat == \"CIRCLE\" and pay == \"CARD\":\n",
        "  print(\"Cost of ticket:712.5\")\n",
        "elif seat == \"STAILS\" and pay == \"CASH\":\n",
        "  print(\"Cost of ticket:562.5\")\n",
        "elif seat == \"STAILS\" and pay == \"CARD\":\n",
        "  print(\"Cost of ticket:593.75\")\n",
        "elif seat == \"UPPER CLASS\" and pay == \"CASH\":\n",
        "  print(\"Cost of ticket:765\")\n",
        "elif seat == \"UPEER CLASS\"and pay == \"CARD\":\n",
        "  print(\"Cost of ticket:807.5\")\n",
        "elif seat == \"BOX\" and pay == \"CASH\":\n",
        "  print(\"Cost of ticket:900\")\n",
        "elif seat == \"BOX\" and pay == \"CARD\":\n",
        "  print(\"Cost of ticket:950\")\n",
        "else :\n",
        "  print(\"given input is not acceptable\")\n"
      ],
      "execution_count": null,
      "outputs": [
        {
          "output_type": "stream",
          "text": [
            "Type of Seat:box\n",
            "Payment mode(CARD OR CASH):card\n",
            "Cost of ticket:950\n"
          ],
          "name": "stdout"
        }
      ]
    },
    {
      "cell_type": "code",
      "metadata": {
        "id": "0ro7YvQHdq9Y",
        "colab_type": "code",
        "colab": {
          "base_uri": "https://localhost:8080/",
          "height": 85
        },
        "outputId": "b9d92a5f-5128-49e6-fa6e-da3e3b2e5d61"
      },
      "source": [
        "#question 4\n",
        "float(input(\"Enter the mass of the water\"))*(float(input(\"final temp\"))-float(input(\"intial temp\")))*4184"
      ],
      "execution_count": null,
      "outputs": [
        {
          "output_type": "stream",
          "text": [
            "Enter the mass of the water21\n",
            "final temp78\n",
            "intial temp21\n"
          ],
          "name": "stdout"
        },
        {
          "output_type": "execute_result",
          "data": {
            "text/plain": [
              "5008248.0"
            ]
          },
          "metadata": {
            "tags": []
          },
          "execution_count": 17
        }
      ]
    },
    {
      "cell_type": "code",
      "metadata": {
        "id": "brTsNSNOeyNH",
        "colab_type": "code",
        "colab": {
          "base_uri": "https://localhost:8080/",
          "height": 51
        },
        "outputId": "4323b7eb-6ca5-456c-88fc-b10deaef7f26"
      },
      "source": [
        "#question 5\n",
        "month = input(\"enter the month\").upper()\n",
        "if month == \"DECEMBER\" or month == \"JANUARY\" or month == \"FEBRUARY\" :\n",
        "  print(\"Winter\")\n",
        "elif month == \"MARCH\" or month == \"APRIL\" or month == \"MAY\" :\n",
        "  print(\"SPRING\")\n",
        "elif month == \"JUNE\" or month == \"JULY\" or month == \"AUGUST\" :\n",
        "  print(\"SUMMER\")\n",
        "elif month == \"SEPTEMBER\" or month == \"OCTOBER\" or month == \"NOVEMBER\" :\n",
        "  print(\"AUTUMN\")\n",
        "else :\n",
        "  print(\"not a month\")"
      ],
      "execution_count": null,
      "outputs": [
        {
          "output_type": "stream",
          "text": [
            "enter the monthjune\n",
            "SUMMER\n"
          ],
          "name": "stdout"
        }
      ]
    },
    {
      "cell_type": "code",
      "metadata": {
        "id": "-tF7Xpn5hj4G",
        "colab_type": "code",
        "colab": {
          "base_uri": "https://localhost:8080/",
          "height": 68
        },
        "outputId": "73b168c6-aeb3-4899-a46d-8a59ad8832f6"
      },
      "source": [
        "#question 6\n",
        "weight = float(input(\"enter the weight in pounds\"))\n",
        "height = float(input(\"enter the height in inches\"))\n",
        "bmi = (weight*0.45359237)/(height*height*0.0254*0.0254)\n",
        "if bmi < 18.5 :\n",
        "  print(\"Underweight\")\n",
        "elif 18.5 < bmi < 25.0 :\n",
        "  print(\"Normal\")\n",
        "elif 25.0 < bmi < 30.0 :\n",
        "  print(\"Overweight\")\n",
        "elif 30.0 < bmi:\n",
        "  print(\"Obese\")"
      ],
      "execution_count": null,
      "outputs": [
        {
          "output_type": "stream",
          "text": [
            "enter the weight in pounds23\n",
            "enter the height in inches14\n",
            "Obese\n"
          ],
          "name": "stdout"
        }
      ]
    },
    {
      "cell_type": "code",
      "metadata": {
        "id": "-dUspjjYkmPt",
        "colab_type": "code",
        "colab": {
          "base_uri": "https://localhost:8080/",
          "height": 51
        },
        "outputId": "6d8ee123-d213-4881-8c2a-86d5dd86664f"
      },
      "source": [
        "#question 7\n",
        "number = input(\"enter a integer between 100 to 1000\")\n",
        "sum=0\n",
        "for i in number :\n",
        "  sum = sum+ int(i)\n",
        "print(sum)"
      ],
      "execution_count": null,
      "outputs": [
        {
          "output_type": "stream",
          "text": [
            "enter a integer between 100 to 1000745\n",
            "16\n"
          ],
          "name": "stdout"
        }
      ]
    },
    {
      "cell_type": "code",
      "metadata": {
        "id": "FVl7ShWUlpgU",
        "colab_type": "code",
        "colab": {
          "base_uri": "https://localhost:8080/",
          "height": 1000
        },
        "outputId": "205f0253-566e-425d-8f27-3dc4239482af"
      },
      "source": [
        "#question 8\n",
        "for i in range(1,1000):\n",
        "  sum=0\n",
        "  y=i\n",
        "  while i>0 :\n",
        "   x=i%10\n",
        "   i=int(i/10)\n",
        "   sum= sum * 10 + x\n",
        "  if y==sum :\n",
        "   print(y)\n"
      ],
      "execution_count": 3,
      "outputs": [
        {
          "output_type": "stream",
          "text": [
            "1\n",
            "2\n",
            "3\n",
            "4\n",
            "5\n",
            "6\n",
            "7\n",
            "8\n",
            "9\n",
            "11\n",
            "22\n",
            "33\n",
            "44\n",
            "55\n",
            "66\n",
            "77\n",
            "88\n",
            "99\n",
            "101\n",
            "111\n",
            "121\n",
            "131\n",
            "141\n",
            "151\n",
            "161\n",
            "171\n",
            "181\n",
            "191\n",
            "202\n",
            "212\n",
            "222\n",
            "232\n",
            "242\n",
            "252\n",
            "262\n",
            "272\n",
            "282\n",
            "292\n",
            "303\n",
            "313\n",
            "323\n",
            "333\n",
            "343\n",
            "353\n",
            "363\n",
            "373\n",
            "383\n",
            "393\n",
            "404\n",
            "414\n",
            "424\n",
            "434\n",
            "444\n",
            "454\n",
            "464\n",
            "474\n",
            "484\n",
            "494\n",
            "505\n",
            "515\n",
            "525\n",
            "535\n",
            "545\n",
            "555\n",
            "565\n",
            "575\n",
            "585\n",
            "595\n",
            "606\n",
            "616\n",
            "626\n",
            "636\n",
            "646\n",
            "656\n",
            "666\n",
            "676\n",
            "686\n",
            "696\n",
            "707\n",
            "717\n",
            "727\n",
            "737\n",
            "747\n",
            "757\n",
            "767\n",
            "777\n",
            "787\n",
            "797\n",
            "808\n",
            "818\n",
            "828\n",
            "838\n",
            "848\n",
            "858\n",
            "868\n",
            "878\n",
            "888\n",
            "898\n",
            "909\n",
            "919\n",
            "929\n",
            "939\n",
            "949\n",
            "959\n",
            "969\n",
            "979\n",
            "989\n",
            "999\n"
          ],
          "name": "stdout"
        }
      ]
    },
    {
      "cell_type": "code",
      "metadata": {
        "id": "1L2b7_iAi-hS",
        "colab_type": "code",
        "colab": {}
      },
      "source": [
        ""
      ],
      "execution_count": null,
      "outputs": []
    },
    {
      "cell_type": "code",
      "metadata": {
        "colab_type": "code",
        "id": "5Bhkj30DjLiU",
        "colab": {
          "base_uri": "https://localhost:8080/",
          "height": 238
        },
        "outputId": "64258e2a-0998-4d1d-93bc-2456859c4557"
      },
      "source": [
        "#question 9\n",
        "for i in range(1,1000):\n",
        "  sum=0\n",
        "  y=i\n",
        "  count = len(str(i))\n",
        "  while i>0 :\n",
        "   x=i%10\n",
        "   sum= sum  + x**count\n",
        "   i=int(i/10)\n",
        "  if y==sum :\n",
        "   print(y)\n"
      ],
      "execution_count": 13,
      "outputs": [
        {
          "output_type": "stream",
          "text": [
            "1\n",
            "2\n",
            "3\n",
            "4\n",
            "5\n",
            "6\n",
            "7\n",
            "8\n",
            "9\n",
            "153\n",
            "370\n",
            "371\n",
            "407\n"
          ],
          "name": "stdout"
        }
      ]
    },
    {
      "cell_type": "code",
      "metadata": {
        "id": "mBukmptPkqcE",
        "colab_type": "code",
        "colab": {
          "base_uri": "https://localhost:8080/",
          "height": 1000
        },
        "outputId": "59cd3349-7d1e-4791-f3e0-aa25a39479a4"
      },
      "source": [
        "#question 10\n",
        "for i in range(1,100) :\n",
        "  if i % 3 == 0 and i % 5 == 0 :\n",
        "    print(\"fizz buzz\")\n",
        "  elif i % 3 == 0 :\n",
        "    print(\"Fizz\")\n",
        "  elif i % 5 == 0 :\n",
        "    print(\"Buzz\")\n",
        "  else :\n",
        "    print(i)"
      ],
      "execution_count": 16,
      "outputs": [
        {
          "output_type": "stream",
          "text": [
            "1\n",
            "2\n",
            "Fizz\n",
            "4\n",
            "Buzz\n",
            "Fizz\n",
            "7\n",
            "8\n",
            "Fizz\n",
            "Buzz\n",
            "11\n",
            "Fizz\n",
            "13\n",
            "14\n",
            "fizz buzz\n",
            "16\n",
            "17\n",
            "Fizz\n",
            "19\n",
            "Buzz\n",
            "Fizz\n",
            "22\n",
            "23\n",
            "Fizz\n",
            "Buzz\n",
            "26\n",
            "Fizz\n",
            "28\n",
            "29\n",
            "fizz buzz\n",
            "31\n",
            "32\n",
            "Fizz\n",
            "34\n",
            "Buzz\n",
            "Fizz\n",
            "37\n",
            "38\n",
            "Fizz\n",
            "Buzz\n",
            "41\n",
            "Fizz\n",
            "43\n",
            "44\n",
            "fizz buzz\n",
            "46\n",
            "47\n",
            "Fizz\n",
            "49\n",
            "Buzz\n",
            "Fizz\n",
            "52\n",
            "53\n",
            "Fizz\n",
            "Buzz\n",
            "56\n",
            "Fizz\n",
            "58\n",
            "59\n",
            "fizz buzz\n",
            "61\n",
            "62\n",
            "Fizz\n",
            "64\n",
            "Buzz\n",
            "Fizz\n",
            "67\n",
            "68\n",
            "Fizz\n",
            "Buzz\n",
            "71\n",
            "Fizz\n",
            "73\n",
            "74\n",
            "fizz buzz\n",
            "76\n",
            "77\n",
            "Fizz\n",
            "79\n",
            "Buzz\n",
            "Fizz\n",
            "82\n",
            "83\n",
            "Fizz\n",
            "Buzz\n",
            "86\n",
            "Fizz\n",
            "88\n",
            "89\n",
            "fizz buzz\n",
            "91\n",
            "92\n",
            "Fizz\n",
            "94\n",
            "Buzz\n",
            "Fizz\n",
            "97\n",
            "98\n",
            "Fizz\n"
          ],
          "name": "stdout"
        }
      ]
    },
    {
      "cell_type": "code",
      "metadata": {
        "id": "jibtf35YnB7Q",
        "colab_type": "code",
        "colab": {
          "base_uri": "https://localhost:8080/",
          "height": 85
        },
        "outputId": "518a4310-351c-4f57-c4bd-5103cf86a166"
      },
      "source": [
        "#question 11\n",
        "height = int(input(\"Enter the height\"))\n",
        "up = int(input(\"Enter the meters climed up\"))\n",
        "slip = int(input(\"Enter the sliped down\"))\n",
        "dt = ((height - up)+(up-slip))//(up-slip)\n",
        "print(dt+1)"
      ],
      "execution_count": 18,
      "outputs": [
        {
          "output_type": "stream",
          "text": [
            "Enter the height200\n",
            "Enter the meters climed up50\n",
            "Enter the sliped down1\n",
            "5\n"
          ],
          "name": "stdout"
        }
      ]
    }
  ]
}